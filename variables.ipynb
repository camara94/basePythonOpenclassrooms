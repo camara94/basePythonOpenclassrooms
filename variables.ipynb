{
 "cells": [
  {
   "cell_type": "markdown",
   "metadata": {},
   "source": [
    "# Les variables en Python"
   ]
  },
  {
   "cell_type": "code",
   "execution_count": 1,
   "metadata": {},
   "outputs": [],
   "source": [
    "compteCourant = 500\n",
    "compteEpargne = 1000"
   ]
  },
  {
   "cell_type": "code",
   "execution_count": 2,
   "metadata": {},
   "outputs": [
    {
     "name": "stdout",
     "output_type": "stream",
     "text": [
      "500\n"
     ]
    }
   ],
   "source": [
    "print(compteCourant)"
   ]
  },
  {
   "cell_type": "code",
   "execution_count": 3,
   "metadata": {},
   "outputs": [
    {
     "name": "stdout",
     "output_type": "stream",
     "text": [
      "1000\n"
     ]
    }
   ],
   "source": [
    "print(compteEpargne)"
   ]
  },
  {
   "cell_type": "code",
   "execution_count": 6,
   "metadata": {},
   "outputs": [],
   "source": [
    "# ajouter 100 à notre épargne (Yeah!)\n",
    "compteEpargne = compteEpargne + 100\n",
    "# enlever 50 à notre compte courant (Snif)\n",
    "compteCourant = compteCourant - 50\n",
    "# calculer le nombre de jours à économiser pour atteindre 5000\n",
    "nombreJoursEconomiser = (5000 - compteCourant) / 500\n",
    "# mettre à jour notre compte courant (encore) après les gains/perte journaliers\n",
    "compteCourant = compteCourant + (30 - 10) * 7"
   ]
  },
  {
   "cell_type": "code",
   "execution_count": 7,
   "metadata": {},
   "outputs": [
    {
     "data": {
      "text/plain": [
       "540"
      ]
     },
     "execution_count": 7,
     "metadata": {},
     "output_type": "execute_result"
    }
   ],
   "source": [
    "compteCourant"
   ]
  },
  {
   "cell_type": "code",
   "execution_count": 8,
   "metadata": {},
   "outputs": [
    {
     "name": "stdout",
     "output_type": "stream",
     "text": [
      "200\n",
      "729\n",
      "2\n"
     ]
    }
   ],
   "source": [
    "print(compteEpargne % 500) # -> 100\n",
    "# 1100 = 500 * 2 + 100, donc 1100 % 500 = le reste = 100\n",
    "\n",
    "print(9 ** 3) # -> 729, 9*9*9 = 729\n",
    "\n",
    "print(compteEpargne // 500) # -> 2\n",
    "# 1100 = 500 * 2 + 100, donc 1100 // 500 = résultat division entière = 2"
   ]
  },
  {
   "cell_type": "code",
   "execution_count": 9,
   "metadata": {},
   "outputs": [],
   "source": [
    "# version explicite\n",
    "compteEpargne = compteEpargne + 100\n",
    "\n",
    "# équivalent à version courte :\n",
    "compteEpargne += 100"
   ]
  },
  {
   "cell_type": "code",
   "execution_count": 10,
   "metadata": {},
   "outputs": [],
   "source": [
    "# -=  pour la soustraction ;\n",
    "\n",
    "# *=  pour la multiplication ;\n",
    "\n",
    "# /=  pour la division ;\n",
    "\n",
    "# %=  pour le reste de la division entière ;"
   ]
  },
  {
   "cell_type": "code",
   "execution_count": 11,
   "metadata": {},
   "outputs": [],
   "source": [
    "prenom = \"Benjamin\"\n",
    "pourcentageActivite = 72.3\n",
    "adresse = \"7 Cité Paradis, 75010 Paris\""
   ]
  },
  {
   "cell_type": "code",
   "execution_count": 12,
   "metadata": {},
   "outputs": [],
   "source": [
    "adresse = \"7 Cité Paradis, 75010 Paris\"\n",
    "# équivalent à\n",
    "adresse = '7 Cité Paradis, 75010 Paris'"
   ]
  },
  {
   "cell_type": "code",
   "execution_count": 13,
   "metadata": {},
   "outputs": [],
   "source": [
    "#     les variables entières (int) ;\n",
    "\n",
    "#     les variables décimales (float) ;\n",
    "\n",
    "#     les chaînes de caractères (string)."
   ]
  },
  {
   "cell_type": "markdown",
   "metadata": {},
   "source": [
    "# En résumé\n",
    "Dans ce chapitre, vous avez découvert les fondamentaux sur les variables :\n",
    "<ul>\n",
    "    <li>Une <strong>variable</strong> est composée de deux éléments : son <strong>nom</strong> et sa <strong>valeur</strong>.</li>\n",
    "    <li>L’attribution d’une valeur à une variable s’appelle une <strong>affectation</strong>.</li>\n",
    "    <li>La <strong>valeur</strong> d’une variable peut être <strong>modifiée</strong>.</li>\n",
    "    <li>Le <strong>type</strong> d’une variable dépend de sa <strong>valeur</strong>.</li>\n",
    "    <li>Les noms de vos variables doivent être <strong>clairs, explicites</strong> et doivent suivre une <strong>convention typographique</strong>.</li>\n",
    "</ul>"
   ]
  }
 ],
 "metadata": {
  "kernelspec": {
   "display_name": "Python 3",
   "language": "python",
   "name": "python3"
  },
  "language_info": {
   "codemirror_mode": {
    "name": "ipython",
    "version": 3
   },
   "file_extension": ".py",
   "mimetype": "text/x-python",
   "name": "python",
   "nbconvert_exporter": "python",
   "pygments_lexer": "ipython3",
   "version": "3.7.4"
  }
 },
 "nbformat": 4,
 "nbformat_minor": 2
}
